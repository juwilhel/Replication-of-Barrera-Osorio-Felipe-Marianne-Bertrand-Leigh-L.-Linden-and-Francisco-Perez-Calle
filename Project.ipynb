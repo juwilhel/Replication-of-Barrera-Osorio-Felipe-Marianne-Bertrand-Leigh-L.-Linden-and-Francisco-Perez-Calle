{
 "cells": [
  {
   "cell_type": "markdown",
   "metadata": {},
   "source": [
    "--- \n",
    "Project for the course in Microeconometrics | Summer 2020, M.Sc. Economics, Bonn University | Julia Wilhelm\n",
    "\n",
    "# Replication of F. Barrera-Osorio, M. Bertrand, L. L. Linden, F. Perez-Calle  (2011) <a class=\"tocSkip\">   \n",
    "---"
   ]
  },
  {
   "cell_type": "markdown",
   "metadata": {},
   "source": [
    "This notebook contains my replication of the results from the following paper:\n",
    "\n",
    "> Barrera-Osorio, Felipe, Marianne Bertrand, Leigh L. Linden, and Francisco Perez-Calle. 2011. \"Improving the Design of Conditional Transfer Programs: Evidence from a Randomized Education Experiment in Colombia.\" American Economic Journal: Applied Economics, 3 (2): 167-95. "
   ]
  },
  {
   "cell_type": "code",
   "execution_count": null,
   "metadata": {},
   "outputs": [],
   "source": []
  },
  {
   "cell_type": "code",
   "execution_count": null,
   "metadata": {},
   "outputs": [],
   "source": []
  },
  {
   "cell_type": "code",
   "execution_count": 3,
   "metadata": {},
   "outputs": [],
   "source": [
    "import pandas as pd\n",
    "import numpy as np\n",
    "import seaborn as sns\n",
    "import matplotlib as plt\n",
    "import statsmodels as sm\n",
    "import scipy.stats as ss\n",
    "import pandas.io.formats.style\n",
    "import statsmodels.formula.api as smf\n",
    "import statsmodels.api as sm_api"
   ]
  },
  {
   "cell_type": "code",
   "execution_count": 4,
   "metadata": {},
   "outputs": [],
   "source": [
    "from auxiliary.auxiliary_tables import *"
   ]
  },
  {
   "cell_type": "markdown",
   "metadata": {},
   "source": [
    "---\n",
    "# 1. Introduction \n",
    "---"
   ]
  },
  {
   "cell_type": "markdown",
   "metadata": {},
   "source": [
    "Barrera-Osorio et al. (2011) compare three education-based conditional cash transfer designs aimed at incentivizing academic participation. Using data from a pilot study in Bogota, Colombia they examine the effects of a bi-monthly transfer (basic Treatment), a bi-monthly transfer combined with a lump-sum payment at the time students are supposed to re-enroll in school (savings treatment) and a bi-monthly transfer combined with a large payment upon graduation (tertiary treatment). The payments are conditional on school attendence of the child and designed to prevent dropout from secondary schools and to encourage matriculation at tertiary institutions.\n",
    "\n",
    "To estimate and compare the causal impact of the three treatments, Barrera-Osorio et al. (2011) apply a difference model to data from Bogota. The Secretary of Education of the City implemented a pilot study running for one year, where they randomly allocated treatments to children in two localities. They randomize at child-level, generating variation within schools and families. This allows the authors to assess comparability of different groups. Barrera-Osorio et al. (2011) find that all designs significantly increase attendance and that the savings and tertiary treatments increase enrollment rates more strongly than the basic treatment. They conclude taht the structure of the intervention can help targeting resources.\n",
    "\n",
    "In this notebook, I replicate the results presented in the paper by Barrera-Osorio et al. (2011).\n",
    "\n",
    "This notebook is structured as follows. "
   ]
  },
  {
   "cell_type": "markdown",
   "metadata": {},
   "source": [
    "---\n",
    "# 2. Identification\n",
    "--- \n"
   ]
  },
  {
   "cell_type": "markdown",
   "metadata": {},
   "source": [
    "Barrera-Osorio et al. (2011) aim to answer the question on how three different education-based conditional cash transfer designs perform in preventing dropout from secondary schools and encouraging matriculation at tertiary institutions. \n",
    "The different treatments were implemented in two localities in Bogota, San Cristobal and Suba. Since it is impossible to observe treatment effects at the individual level, researchers thus estimate average effects using treatment and control groups. Eligible children in San Cristobal were randomly assigned between a control group, the basic treatment (bi-monthly transfer) and the savings treatment (bi-monthly transfer combined with a lump-sum payment at the time students are supposed to re-enroll in school). In Suba eligible children were randomly assigned to the tertiary treatment (bi-monthly transfer combined with a large payment upon graduation) and a control group. For each individual $i$ we can image a potential outcome where they are treated $Y_i(1)$ and where they are not $Y_i(0)$ but we can never simultaneously observe both outcomes for each individual. The random treatment assignment allows the authors to experimentally estimate the causal effects of the three treatments. While they directly can compare the effect of the basic and savings treatment, comparing those with the tertiary treatment they cannot rely on purely random variation. This is because the tertiary treatment was implemented in another locality and therefore, the comparison to the tertiary treatment occurs across experiments.\n",
    "\n",
    "Since treatments were assigned randomly within the two localities, potential outcomes are independent of $D$ and the selection bias is eliminated. The naive estimate which simply compares the observed average outcome of the treatment and control groups, then equals the true average treatment effect: \n",
    "\n",
    "\\begin{align*}\n",
    "  E[Y\\mid D = 1] - E[Y\\mid D = 0] & = E[Y^1\\mid D = 1] - E[Y^0\\mid D = 0] \\\\\n",
    "                                  & =E[Y^1\\mid D = 1]  - E[Y^0\\mid D = 1] + E[Y^0\\mid D = 1] - E[Y^0\\mid D = 0]  \\\\\n",
    "                                  & = \\underbrace{E[Y^1 - Y^0\\mid D = 1]}_{ATT} + \\underbrace{E[Y^0\\mid D= 1]- E[Y^0 \\mid D = 0]}_{\\text{Selection bias}} \\\\\n",
    "                                  & =E[Y^1 - Y^0\\mid D = 1] \\\\\n",
    "                                  & =E[Y^1 - Y^0\\mid D = 0] \\\\\n",
    "                                  & =E[Y^1 - Y^0]\n",
    "\\end{align*}\n",
    "\n",
    "The authors here rely on the following two assumptions:\n",
    "\\begin{align*}\n",
    "E[Y^1\\mid D = 1] = E[Y^1\\mid D = 0] \\\\\n",
    "E[Y^0\\mid D = 1] = E[Y^0\\mid D = 0] \\\\\n",
    "\\end{align*}\n",
    "\n",
    "The causal graphs below illustrate the relationship between the treatments $D_B$, $D_S$, $D_T$ and outcome $Y$ in the two localities. Additionally there may be observables $W$ and unobservables $U$ also affecting $Y$. Due to random treatment assignment within the two localities, treatment is independent of $W$ and $U$ and there is no back-door path which has to be eliminated.\n",
    "\n",
    "**San Cristobal:**\n",
    "![ERROR:Here should be causal graph 1](files/CausalGraph_1.png)\n",
    "$D_B$: Basic treatment  \n",
    "$D_S$: Savings treatment  \n",
    "$Y$: Students outcome  \n",
    "$U$: Unobservables  \n",
    "$W$: Observables\n",
    "\n",
    "**Suba:**\n",
    "![ERROR:Here should be causal graph 2](files/CausalGraph_2.png)\n",
    "$D_T$: Tertiary treatment  \n",
    "$Y$: Students outcome  \n",
    "$U$: Unobservables  \n",
    "$W$: Observables\n",
    "\n",
    "The identification assumption to eliminate causal effects here is that randomization within the localities is successful. Barrera-Osorio et al. (2011) account for this checking whether treatment assignment created balanced treatment and control groups using household- and individual-level characteristics. These information were collected prior to the randomization, which suggests that students in each group should, on average, have similar characteristics. The authors make 60 comparisons and find 7 differences that are statistically significant at the 10 percent level, 5 at the 5 percent level and 2 at the 1 percent level. They conclude that randomization of the treatment assignment is successful.\n",
    "\n",
    "However, considering the experiment in the two localities together in order to compare the effects of all three treatments, the causal graph has three back-door paths which have to be eliminated. Treatment assignment then is not completely random, since it is not random whether a person lives in Suba or San Cristobal. Observable or unobservable factors may affect treatment assignment and the outcome at the same time. The causal graph the authors use then looks as follows:\n",
    "\n",
    "![ERROR:Here should be causal graph 3](files/CausalGraph_3.png)\n",
    "$D_B$: Basic treatment  \n",
    "$D_S$: Savings treatment  \n",
    "$D_T$: Tertiary treatment  \n",
    "$Y$: Students outcome  \n",
    "$U$: Unobservables  \n",
    "$W$: Observables\n",
    "\n",
    "In order to eliminate the back-door paths Barrera-Osorio et al. (2011) control for a large set of observable demographic characteristics. Nevertheless, differences between the tertiary treatment and the other treatments could be due to unobserved heterogeneity in treatment effects. I will come to this problem later again."
   ]
  },
  {
   "cell_type": "markdown",
   "metadata": {},
   "source": [
    "---\n",
    "# 3. Empirical Strategy\n",
    "---\n",
    "Barrera-Osorio et al. (2011) examine the impact of the basic, the savings and the tertiary treatment on student outcome. They use a simple difference model that makes comparisons between different subsets of the sample without controlling for covariates. \n",
    "\n",
    "For the basic-savings experiment in San Cristobal the specification takes the following form:\n",
    "\n",
    "\\begin{equation}\n",
    "y_{ij} = \\beta_0 + \\beta_B Basic_i + \\beta_S Savings_i + \\epsilon_{ij} \n",
    "\\end{equation}\n",
    "\n",
    "For the tertiary experiment in Suba the specification takes the following form:\n",
    "\n",
    "\\begin{equation}\n",
    "y_{ij} = \\beta_0 + \\beta_T Tertiary_i + \\epsilon_{ij} \n",
    "\\end{equation}\n",
    "* $y_{ij}$ denotes a particular outcome for child $i$ in school $j$,\n",
    "* $Basic_i$, $Savings_i$ and $Tertiary_i$ are indicator variables for whether or not the child is in the respective treatment group,\n",
    "* $\\epsilon_{ij}$ is the error term, which is allowed to vary up to the school level.\n",
    "\n",
    "The authors additionally use a difference estimator that controls for socio-demographic and school characteristics.\n",
    "For the basic-savings experiment the model is specified as follows:\n",
    "\n",
    "\\begin{equation}\n",
    "y_{ij} = \\beta_0 + \\beta_B Basic_i + \\beta_S Savings_i + \\delta X_{ijk} + \\phi_{j} + \\epsilon_{ij} \n",
    "\\end{equation}\n",
    "\n",
    "For the tertiary treatment the model is specified as follows:\n",
    "\n",
    "\\begin{equation}\n",
    "y_{ij} = \\beta_0 + \\beta_T Tertiary_i + \\delta X_{ijk} + \\phi_{j} + \\epsilon_{ij} \n",
    "\\end{equation}\n",
    "\n",
    "The variables are defined as before. Additionally,\n",
    "* $X_{ijk}$ is a vector of socio-demographic controls for child $i$ in school $j$ and family $k$,\n",
    "* $\\phi_{j}$ are school fixed effects."
   ]
  },
  {
   "cell_type": "markdown",
   "metadata": {},
   "source": [
    "---\n",
    "# 4. Replication of Barrera-Osorio et al. (2011)\n",
    "---"
   ]
  },
  {
   "cell_type": "markdown",
   "metadata": {},
   "source": [
    "## 4.1. Data & Descriptive Statistics\n",
    "Barrera-Osorio et al. (2011) restricted their sample of students spread across 251 schools to the 68 school with the largest number of registered children. In addition to that they filter the data by those students who comleted a baseline survey they conducted. They end up with a sample of 7158 children."
   ]
  },
  {
   "cell_type": "code",
   "execution_count": 9,
   "metadata": {},
   "outputs": [],
   "source": [
    "data = pd.read_stata('data/Public_Data_AEJApp_2010-0132.dta')\n",
    "data.index.name = \"individual\""
   ]
  },
  {
   "cell_type": "markdown",
   "metadata": {},
   "source": [
    "#### Table 1- Distribution of Subjects by Research Groups"
   ]
  },
  {
   "cell_type": "code",
   "execution_count": 7,
   "metadata": {},
   "outputs": [
    {
     "data": {
      "text/html": [
       "<div>\n",
       "<style scoped>\n",
       "    .dataframe tbody tr th:only-of-type {\n",
       "        vertical-align: middle;\n",
       "    }\n",
       "\n",
       "    .dataframe tbody tr th {\n",
       "        vertical-align: top;\n",
       "    }\n",
       "\n",
       "    .dataframe thead tr th {\n",
       "        text-align: left;\n",
       "    }\n",
       "</style>\n",
       "<table border=\"1\" class=\"dataframe\">\n",
       "  <thead>\n",
       "    <tr>\n",
       "      <th>Experiment</th>\n",
       "      <th colspan=\"3\" halign=\"left\">Basic-Savings</th>\n",
       "      <th colspan=\"2\" halign=\"left\">Tertiary</th>\n",
       "      <th>Total</th>\n",
       "    </tr>\n",
       "    <tr>\n",
       "      <th>Group</th>\n",
       "      <th>Basic</th>\n",
       "      <th>Control</th>\n",
       "      <th>Savings</th>\n",
       "      <th>Control</th>\n",
       "      <th>Tertiary</th>\n",
       "      <th></th>\n",
       "    </tr>\n",
       "  </thead>\n",
       "  <tbody>\n",
       "    <tr>\n",
       "      <th>Grade 11</th>\n",
       "      <td>188</td>\n",
       "      <td>179</td>\n",
       "      <td>177</td>\n",
       "      <td>160</td>\n",
       "      <td>148</td>\n",
       "      <td>852</td>\n",
       "    </tr>\n",
       "    <tr>\n",
       "      <th>Grades 6-8</th>\n",
       "      <td>1215</td>\n",
       "      <td>1189</td>\n",
       "      <td>1166</td>\n",
       "      <td>0</td>\n",
       "      <td>0</td>\n",
       "      <td>3570</td>\n",
       "    </tr>\n",
       "    <tr>\n",
       "      <th>Grades 9-10</th>\n",
       "      <td>633</td>\n",
       "      <td>643</td>\n",
       "      <td>586</td>\n",
       "      <td>449</td>\n",
       "      <td>425</td>\n",
       "      <td>2736</td>\n",
       "    </tr>\n",
       "    <tr>\n",
       "      <th>Female</th>\n",
       "      <td>1022</td>\n",
       "      <td>1047</td>\n",
       "      <td>1000</td>\n",
       "      <td>361</td>\n",
       "      <td>336</td>\n",
       "      <td>3766</td>\n",
       "    </tr>\n",
       "    <tr>\n",
       "      <th>Male</th>\n",
       "      <td>1014</td>\n",
       "      <td>964</td>\n",
       "      <td>929</td>\n",
       "      <td>248</td>\n",
       "      <td>237</td>\n",
       "      <td>3392</td>\n",
       "    </tr>\n",
       "    <tr>\n",
       "      <th>Total</th>\n",
       "      <td>2036</td>\n",
       "      <td>2011</td>\n",
       "      <td>1929</td>\n",
       "      <td>609</td>\n",
       "      <td>573</td>\n",
       "      <td>7158</td>\n",
       "    </tr>\n",
       "  </tbody>\n",
       "</table>\n",
       "</div>"
      ],
      "text/plain": [
       "Experiment  Basic-Savings                 Tertiary          Total\n",
       "Group               Basic Control Savings  Control Tertiary      \n",
       "Grade 11              188     179     177      160      148   852\n",
       "Grades 6-8           1215    1189    1166        0        0  3570\n",
       "Grades 9-10           633     643     586      449      425  2736\n",
       "Female               1022    1047    1000      361      336  3766\n",
       "Male                 1014     964     929      248      237  3392\n",
       "Total                2036    2011    1929      609      573  7158"
      ]
     },
     "execution_count": 7,
     "metadata": {},
     "output_type": "execute_result"
    }
   ],
   "source": [
    "create_table1(data)"
   ]
  },
  {
   "cell_type": "markdown",
   "metadata": {},
   "source": [
    "First, Barrera-Osorio et al. (2011) check that the randomization created balanced research groups. Therefore, they compare characteristics of students between research groups."
   ]
  },
  {
   "cell_type": "markdown",
   "metadata": {},
   "source": [
    "#### Table 2- Comparison of Students between Research Groups"
   ]
  },
  {
   "cell_type": "code",
   "execution_count": null,
   "metadata": {},
   "outputs": [],
   "source": []
  },
  {
   "cell_type": "code",
   "execution_count": null,
   "metadata": {},
   "outputs": [],
   "source": []
  }
 ],
 "metadata": {
  "kernelspec": {
   "display_name": "Python 3",
   "language": "python",
   "name": "python3"
  },
  "language_info": {
   "codemirror_mode": {
    "name": "ipython",
    "version": 3
   },
   "file_extension": ".py",
   "mimetype": "text/x-python",
   "name": "python",
   "nbconvert_exporter": "python",
   "pygments_lexer": "ipython3",
   "version": "3.7.6"
  }
 },
 "nbformat": 4,
 "nbformat_minor": 4
}
